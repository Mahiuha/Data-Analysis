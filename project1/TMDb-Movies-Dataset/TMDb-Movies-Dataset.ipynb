{
 "cells": [
  {
   "cell_type": "markdown",
   "metadata": {},
   "source": [
    "\n",
    "# Project: Investigate a Dataset - [Tmdb-movies-Data]\n",
    "\n",
    "## Table of Contents\n",
    "<ul>\n",
    "<li><a href=\"#intro\">Introduction</a></li>\n",
    "<li><a href=\"#wrangling\">Data Wrangling</a></li>\n",
    "<li><a href=\"#eda\">Exploratory Data Analysis</a></li>\n",
    "<li><a href=\"#conclusions\">Conclusions</a></li>\n",
    "</ul>"
   ]
  },
  {
   "cell_type": "markdown",
   "metadata": {},
   "source": [
    "<a id='intro'></a>\n",
    "## Introduction\n",
    "Tmdb-movies is dataset that contains informations about more than 10,000 movies from The Movie Database, After cleaning the data i am going to find insight according to these research questions :\n",
    "\n",
    "#### Which genres are most popular from year to year ?\n",
    "#### What is the average runtime for popular movies ?\n",
    "#### Which production companies have the highest revenue over decades ?\n",
    "#### What kind of properties associated with high budget movies ?"
   ]
  },
  {
   "cell_type": "code",
   "execution_count": 3,
   "metadata": {},
   "outputs": [],
   "source": [
    "import pandas as pd\n",
    "import numpy as np\n",
    "import matplotlib.pyplot as plt\n",
    "import seaborn as sns\n",
    "import datetime\n",
    "%matplotlib inline\n"
   ]
  },
  {
   "cell_type": "markdown",
   "metadata": {},
   "source": [
    "<a id='wrangling'></a>\n",
    "## Data Wrangling\n",
    "\n",
    "\n",
    "### General Properties"
   ]
  },
  {
   "cell_type": "code",
   "execution_count": 4,
   "metadata": {},
   "outputs": [
    {
     "data": {
      "text/html": [
       "<div>\n",
       "<style scoped>\n",
       "    .dataframe tbody tr th:only-of-type {\n",
       "        vertical-align: middle;\n",
       "    }\n",
       "\n",
       "    .dataframe tbody tr th {\n",
       "        vertical-align: top;\n",
       "    }\n",
       "\n",
       "    .dataframe thead th {\n",
       "        text-align: right;\n",
       "    }\n",
       "</style>\n",
       "<table border=\"1\" class=\"dataframe\">\n",
       "  <thead>\n",
       "    <tr style=\"text-align: right;\">\n",
       "      <th></th>\n",
       "      <th>id</th>\n",
       "      <th>imdb_id</th>\n",
       "      <th>popularity</th>\n",
       "      <th>budget</th>\n",
       "      <th>revenue</th>\n",
       "      <th>original_title</th>\n",
       "      <th>cast</th>\n",
       "      <th>homepage</th>\n",
       "      <th>director</th>\n",
       "      <th>tagline</th>\n",
       "      <th>...</th>\n",
       "      <th>overview</th>\n",
       "      <th>runtime</th>\n",
       "      <th>genres</th>\n",
       "      <th>production_companies</th>\n",
       "      <th>release_date</th>\n",
       "      <th>vote_count</th>\n",
       "      <th>vote_average</th>\n",
       "      <th>release_year</th>\n",
       "      <th>budget_adj</th>\n",
       "      <th>revenue_adj</th>\n",
       "    </tr>\n",
       "  </thead>\n",
       "  <tbody>\n",
       "    <tr>\n",
       "      <th>0</th>\n",
       "      <td>135397</td>\n",
       "      <td>tt0369610</td>\n",
       "      <td>32.985763</td>\n",
       "      <td>150000000</td>\n",
       "      <td>1513528810</td>\n",
       "      <td>Jurassic World</td>\n",
       "      <td>Chris Pratt|Bryce Dallas Howard|Irrfan Khan|Vi...</td>\n",
       "      <td>http://www.jurassicworld.com/</td>\n",
       "      <td>Colin Trevorrow</td>\n",
       "      <td>The park is open.</td>\n",
       "      <td>...</td>\n",
       "      <td>Twenty-two years after the events of Jurassic ...</td>\n",
       "      <td>124</td>\n",
       "      <td>Action|Adventure|Science Fiction|Thriller</td>\n",
       "      <td>Universal Studios|Amblin Entertainment|Legenda...</td>\n",
       "      <td>6/9/15</td>\n",
       "      <td>5562</td>\n",
       "      <td>6.5</td>\n",
       "      <td>2015</td>\n",
       "      <td>1.379999e+08</td>\n",
       "      <td>1.392446e+09</td>\n",
       "    </tr>\n",
       "    <tr>\n",
       "      <th>1</th>\n",
       "      <td>76341</td>\n",
       "      <td>tt1392190</td>\n",
       "      <td>28.419936</td>\n",
       "      <td>150000000</td>\n",
       "      <td>378436354</td>\n",
       "      <td>Mad Max: Fury Road</td>\n",
       "      <td>Tom Hardy|Charlize Theron|Hugh Keays-Byrne|Nic...</td>\n",
       "      <td>http://www.madmaxmovie.com/</td>\n",
       "      <td>George Miller</td>\n",
       "      <td>What a Lovely Day.</td>\n",
       "      <td>...</td>\n",
       "      <td>An apocalyptic story set in the furthest reach...</td>\n",
       "      <td>120</td>\n",
       "      <td>Action|Adventure|Science Fiction|Thriller</td>\n",
       "      <td>Village Roadshow Pictures|Kennedy Miller Produ...</td>\n",
       "      <td>5/13/15</td>\n",
       "      <td>6185</td>\n",
       "      <td>7.1</td>\n",
       "      <td>2015</td>\n",
       "      <td>1.379999e+08</td>\n",
       "      <td>3.481613e+08</td>\n",
       "    </tr>\n",
       "    <tr>\n",
       "      <th>2</th>\n",
       "      <td>262500</td>\n",
       "      <td>tt2908446</td>\n",
       "      <td>13.112507</td>\n",
       "      <td>110000000</td>\n",
       "      <td>295238201</td>\n",
       "      <td>Insurgent</td>\n",
       "      <td>Shailene Woodley|Theo James|Kate Winslet|Ansel...</td>\n",
       "      <td>http://www.thedivergentseries.movie/#insurgent</td>\n",
       "      <td>Robert Schwentke</td>\n",
       "      <td>One Choice Can Destroy You</td>\n",
       "      <td>...</td>\n",
       "      <td>Beatrice Prior must confront her inner demons ...</td>\n",
       "      <td>119</td>\n",
       "      <td>Adventure|Science Fiction|Thriller</td>\n",
       "      <td>Summit Entertainment|Mandeville Films|Red Wago...</td>\n",
       "      <td>3/18/15</td>\n",
       "      <td>2480</td>\n",
       "      <td>6.3</td>\n",
       "      <td>2015</td>\n",
       "      <td>1.012000e+08</td>\n",
       "      <td>2.716190e+08</td>\n",
       "    </tr>\n",
       "    <tr>\n",
       "      <th>3</th>\n",
       "      <td>140607</td>\n",
       "      <td>tt2488496</td>\n",
       "      <td>11.173104</td>\n",
       "      <td>200000000</td>\n",
       "      <td>2068178225</td>\n",
       "      <td>Star Wars: The Force Awakens</td>\n",
       "      <td>Harrison Ford|Mark Hamill|Carrie Fisher|Adam D...</td>\n",
       "      <td>http://www.starwars.com/films/star-wars-episod...</td>\n",
       "      <td>J.J. Abrams</td>\n",
       "      <td>Every generation has a story.</td>\n",
       "      <td>...</td>\n",
       "      <td>Thirty years after defeating the Galactic Empi...</td>\n",
       "      <td>136</td>\n",
       "      <td>Action|Adventure|Science Fiction|Fantasy</td>\n",
       "      <td>Lucasfilm|Truenorth Productions|Bad Robot</td>\n",
       "      <td>12/15/15</td>\n",
       "      <td>5292</td>\n",
       "      <td>7.5</td>\n",
       "      <td>2015</td>\n",
       "      <td>1.839999e+08</td>\n",
       "      <td>1.902723e+09</td>\n",
       "    </tr>\n",
       "    <tr>\n",
       "      <th>4</th>\n",
       "      <td>168259</td>\n",
       "      <td>tt2820852</td>\n",
       "      <td>9.335014</td>\n",
       "      <td>190000000</td>\n",
       "      <td>1506249360</td>\n",
       "      <td>Furious 7</td>\n",
       "      <td>Vin Diesel|Paul Walker|Jason Statham|Michelle ...</td>\n",
       "      <td>http://www.furious7.com/</td>\n",
       "      <td>James Wan</td>\n",
       "      <td>Vengeance Hits Home</td>\n",
       "      <td>...</td>\n",
       "      <td>Deckard Shaw seeks revenge against Dominic Tor...</td>\n",
       "      <td>137</td>\n",
       "      <td>Action|Crime|Thriller</td>\n",
       "      <td>Universal Pictures|Original Film|Media Rights ...</td>\n",
       "      <td>4/1/15</td>\n",
       "      <td>2947</td>\n",
       "      <td>7.3</td>\n",
       "      <td>2015</td>\n",
       "      <td>1.747999e+08</td>\n",
       "      <td>1.385749e+09</td>\n",
       "    </tr>\n",
       "  </tbody>\n",
       "</table>\n",
       "<p>5 rows × 21 columns</p>\n",
       "</div>"
      ],
      "text/plain": [
       "       id    imdb_id  popularity     budget     revenue  \\\n",
       "0  135397  tt0369610   32.985763  150000000  1513528810   \n",
       "1   76341  tt1392190   28.419936  150000000   378436354   \n",
       "2  262500  tt2908446   13.112507  110000000   295238201   \n",
       "3  140607  tt2488496   11.173104  200000000  2068178225   \n",
       "4  168259  tt2820852    9.335014  190000000  1506249360   \n",
       "\n",
       "                 original_title  \\\n",
       "0                Jurassic World   \n",
       "1            Mad Max: Fury Road   \n",
       "2                     Insurgent   \n",
       "3  Star Wars: The Force Awakens   \n",
       "4                     Furious 7   \n",
       "\n",
       "                                                cast  \\\n",
       "0  Chris Pratt|Bryce Dallas Howard|Irrfan Khan|Vi...   \n",
       "1  Tom Hardy|Charlize Theron|Hugh Keays-Byrne|Nic...   \n",
       "2  Shailene Woodley|Theo James|Kate Winslet|Ansel...   \n",
       "3  Harrison Ford|Mark Hamill|Carrie Fisher|Adam D...   \n",
       "4  Vin Diesel|Paul Walker|Jason Statham|Michelle ...   \n",
       "\n",
       "                                            homepage          director  \\\n",
       "0                      http://www.jurassicworld.com/   Colin Trevorrow   \n",
       "1                        http://www.madmaxmovie.com/     George Miller   \n",
       "2     http://www.thedivergentseries.movie/#insurgent  Robert Schwentke   \n",
       "3  http://www.starwars.com/films/star-wars-episod...       J.J. Abrams   \n",
       "4                           http://www.furious7.com/         James Wan   \n",
       "\n",
       "                         tagline  ...  \\\n",
       "0              The park is open.  ...   \n",
       "1             What a Lovely Day.  ...   \n",
       "2     One Choice Can Destroy You  ...   \n",
       "3  Every generation has a story.  ...   \n",
       "4            Vengeance Hits Home  ...   \n",
       "\n",
       "                                            overview runtime  \\\n",
       "0  Twenty-two years after the events of Jurassic ...     124   \n",
       "1  An apocalyptic story set in the furthest reach...     120   \n",
       "2  Beatrice Prior must confront her inner demons ...     119   \n",
       "3  Thirty years after defeating the Galactic Empi...     136   \n",
       "4  Deckard Shaw seeks revenge against Dominic Tor...     137   \n",
       "\n",
       "                                      genres  \\\n",
       "0  Action|Adventure|Science Fiction|Thriller   \n",
       "1  Action|Adventure|Science Fiction|Thriller   \n",
       "2         Adventure|Science Fiction|Thriller   \n",
       "3   Action|Adventure|Science Fiction|Fantasy   \n",
       "4                      Action|Crime|Thriller   \n",
       "\n",
       "                                production_companies release_date vote_count  \\\n",
       "0  Universal Studios|Amblin Entertainment|Legenda...       6/9/15       5562   \n",
       "1  Village Roadshow Pictures|Kennedy Miller Produ...      5/13/15       6185   \n",
       "2  Summit Entertainment|Mandeville Films|Red Wago...      3/18/15       2480   \n",
       "3          Lucasfilm|Truenorth Productions|Bad Robot     12/15/15       5292   \n",
       "4  Universal Pictures|Original Film|Media Rights ...       4/1/15       2947   \n",
       "\n",
       "   vote_average  release_year    budget_adj   revenue_adj  \n",
       "0           6.5          2015  1.379999e+08  1.392446e+09  \n",
       "1           7.1          2015  1.379999e+08  3.481613e+08  \n",
       "2           6.3          2015  1.012000e+08  2.716190e+08  \n",
       "3           7.5          2015  1.839999e+08  1.902723e+09  \n",
       "4           7.3          2015  1.747999e+08  1.385749e+09  \n",
       "\n",
       "[5 rows x 21 columns]"
      ]
     },
     "execution_count": 4,
     "metadata": {},
     "output_type": "execute_result"
    }
   ],
   "source": [
    "# Loading Data\n",
    "df = pd.read_csv('tmdb-movies.csv')\n",
    "df.head()"
   ]
  },
  {
   "cell_type": "code",
   "execution_count": 5,
   "metadata": {},
   "outputs": [
    {
     "data": {
      "text/plain": [
       "(10866, 21)"
      ]
     },
     "execution_count": 5,
     "metadata": {},
     "output_type": "execute_result"
    }
   ],
   "source": [
    "# Exploring Data shape\n",
    "df.shape"
   ]
  },
  {
   "cell_type": "markdown",
   "metadata": {},
   "source": [
    "**The dataframe contains 10866 rows and 21 columns**"
   ]
  },
  {
   "cell_type": "code",
   "execution_count": 4,
   "metadata": {},
   "outputs": [
    {
     "data": {
      "text/plain": [
       "id                        int64\n",
       "imdb_id                  object\n",
       "popularity              float64\n",
       "budget                    int64\n",
       "revenue                   int64\n",
       "original_title           object\n",
       "cast                     object\n",
       "homepage                 object\n",
       "director                 object\n",
       "tagline                  object\n",
       "keywords                 object\n",
       "overview                 object\n",
       "runtime                   int64\n",
       "genres                   object\n",
       "production_companies     object\n",
       "release_date             object\n",
       "vote_count                int64\n",
       "vote_average            float64\n",
       "release_year              int64\n",
       "budget_adj              float64\n",
       "revenue_adj             float64\n",
       "dtype: object"
      ]
     },
     "execution_count": 4,
     "metadata": {},
     "output_type": "execute_result"
    }
   ],
   "source": [
    "# Exploring Data Types\n",
    "df.dtypes"
   ]
  },
  {
   "cell_type": "markdown",
   "metadata": {},
   "source": [
    "**We notice some variables are not in the right type**"
   ]
  },
  {
   "cell_type": "markdown",
   "metadata": {},
   "source": [
    "### Data Cleaning"
   ]
  },
  {
   "cell_type": "code",
   "execution_count": 6,
   "metadata": {},
   "outputs": [],
   "source": [
    "# Dropping unuseful columns\n",
    "df.drop(['id','imdb_id','homepage','tagline','keywords','overview','cast','director'],axis=1,inplace=True)"
   ]
  },
  {
   "cell_type": "code",
   "execution_count": 7,
   "metadata": {},
   "outputs": [
    {
     "data": {
      "text/plain": [
       "Index(['popularity', 'budget', 'revenue', 'original_title', 'runtime',\n",
       "       'genres', 'production_companies', 'release_date', 'vote_count',\n",
       "       'vote_average', 'release_year', 'budget_adj', 'revenue_adj'],\n",
       "      dtype='object')"
      ]
     },
     "execution_count": 7,
     "metadata": {},
     "output_type": "execute_result"
    }
   ],
   "source": [
    "df.columns"
   ]
  },
  {
   "cell_type": "code",
   "execution_count": 8,
   "metadata": {},
   "outputs": [
    {
     "data": {
      "text/plain": [
       "2090      True\n",
       "0        False\n",
       "7249     False\n",
       "7241     False\n",
       "7242     False\n",
       "         ...  \n",
       "3624     False\n",
       "3625     False\n",
       "3626     False\n",
       "3627     False\n",
       "10865    False\n",
       "Length: 10866, dtype: bool"
      ]
     },
     "execution_count": 8,
     "metadata": {},
     "output_type": "execute_result"
    }
   ],
   "source": [
    "#Checking if there is any duplicated values\n",
    "df.duplicated().sort_values(ascending=False)"
   ]
  },
  {
   "cell_type": "code",
   "execution_count": 9,
   "metadata": {},
   "outputs": [],
   "source": [
    "#Dropping duplicates\n",
    "df = df.drop_duplicates()"
   ]
  },
  {
   "cell_type": "code",
   "execution_count": 10,
   "metadata": {},
   "outputs": [],
   "source": [
    "# Replacing all 0s with NaN\n",
    "df = df.replace(to_replace = 0, value = np.nan)"
   ]
  },
  {
   "cell_type": "code",
   "execution_count": 11,
   "metadata": {
    "scrolled": true
   },
   "outputs": [
    {
     "data": {
      "text/plain": [
       "popularity                 0\n",
       "budget                  5696\n",
       "revenue                 6016\n",
       "original_title             0\n",
       "runtime                   31\n",
       "genres                    23\n",
       "production_companies    1030\n",
       "release_date               0\n",
       "vote_count                 0\n",
       "vote_average               0\n",
       "release_year               0\n",
       "budget_adj              5696\n",
       "revenue_adj             6016\n",
       "dtype: int64"
      ]
     },
     "execution_count": 11,
     "metadata": {},
     "output_type": "execute_result"
    }
   ],
   "source": [
    "#Checking the missing values\n",
    "df.isna().sum()"
   ]
  },
  {
   "cell_type": "code",
   "execution_count": 12,
   "metadata": {
    "scrolled": true
   },
   "outputs": [
    {
     "data": {
      "text/plain": [
       "Comedy                                    712\n",
       "Drama                                     712\n",
       "Documentary                               312\n",
       "Drama|Romance                             289\n",
       "Comedy|Drama                              280\n",
       "                                         ... \n",
       "Drama|Action|Adventure|Crime|Thriller       1\n",
       "Adventure|Fantasy|Comedy|Family|Music       1\n",
       "Comedy|Mystery|Romance|Thriller             1\n",
       "Comedy|Adventure|Action|Crime               1\n",
       "Mystery|Science Fiction|Thriller|Drama      1\n",
       "Name: genres, Length: 2039, dtype: int64"
      ]
     },
     "execution_count": 12,
     "metadata": {},
     "output_type": "execute_result"
    }
   ],
   "source": [
    "# Searching for the most occuring genres\n",
    "df['genres'].value_counts().sort_values(ascending = False)"
   ]
  },
  {
   "cell_type": "markdown",
   "metadata": {},
   "source": [
    "**As of above we can see Drama and Comedy are the most occuring genres**"
   ]
  },
  {
   "cell_type": "code",
   "execution_count": 15,
   "metadata": {},
   "outputs": [],
   "source": [
    "# filling the missing genres with the most occuring one\n",
    "occ_genre = df.genres.mode()\n",
    "df['genres'] = df['genres'].fillna(occ_genre[0])"
   ]
  },
  {
   "cell_type": "code",
   "execution_count": 16,
   "metadata": {},
   "outputs": [
    {
     "data": {
      "text/plain": [
       "popularity                 0\n",
       "budget                  5696\n",
       "revenue                 6016\n",
       "original_title             0\n",
       "runtime                   31\n",
       "genres                     0\n",
       "production_companies    1030\n",
       "release_date               0\n",
       "vote_count                 0\n",
       "vote_average               0\n",
       "release_year               0\n",
       "budget_adj              5696\n",
       "revenue_adj             6016\n",
       "dtype: int64"
      ]
     },
     "execution_count": 16,
     "metadata": {},
     "output_type": "execute_result"
    }
   ],
   "source": [
    "df.isna().sum()"
   ]
  },
  {
   "cell_type": "code",
   "execution_count": 17,
   "metadata": {
    "scrolled": true
   },
   "outputs": [
    {
     "data": {
      "text/html": [
       "<div>\n",
       "<style scoped>\n",
       "    .dataframe tbody tr th:only-of-type {\n",
       "        vertical-align: middle;\n",
       "    }\n",
       "\n",
       "    .dataframe tbody tr th {\n",
       "        vertical-align: top;\n",
       "    }\n",
       "\n",
       "    .dataframe thead th {\n",
       "        text-align: right;\n",
       "    }\n",
       "</style>\n",
       "<table border=\"1\" class=\"dataframe\">\n",
       "  <thead>\n",
       "    <tr style=\"text-align: right;\">\n",
       "      <th></th>\n",
       "      <th>popularity</th>\n",
       "      <th>budget</th>\n",
       "      <th>revenue</th>\n",
       "      <th>runtime</th>\n",
       "      <th>vote_count</th>\n",
       "      <th>vote_average</th>\n",
       "      <th>release_year</th>\n",
       "      <th>budget_adj</th>\n",
       "      <th>revenue_adj</th>\n",
       "    </tr>\n",
       "  </thead>\n",
       "  <tbody>\n",
       "    <tr>\n",
       "      <th>count</th>\n",
       "      <td>10865.000000</td>\n",
       "      <td>5.169000e+03</td>\n",
       "      <td>4.849000e+03</td>\n",
       "      <td>10834.000000</td>\n",
       "      <td>10865.000000</td>\n",
       "      <td>10865.000000</td>\n",
       "      <td>10865.000000</td>\n",
       "      <td>5.169000e+03</td>\n",
       "      <td>4.849000e+03</td>\n",
       "    </tr>\n",
       "    <tr>\n",
       "      <th>mean</th>\n",
       "      <td>0.646446</td>\n",
       "      <td>3.073958e+07</td>\n",
       "      <td>8.923886e+07</td>\n",
       "      <td>102.363855</td>\n",
       "      <td>217.399632</td>\n",
       "      <td>5.975012</td>\n",
       "      <td>2001.321859</td>\n",
       "      <td>3.688907e+07</td>\n",
       "      <td>1.151009e+08</td>\n",
       "    </tr>\n",
       "    <tr>\n",
       "      <th>std</th>\n",
       "      <td>1.000231</td>\n",
       "      <td>3.890441e+07</td>\n",
       "      <td>1.620801e+08</td>\n",
       "      <td>30.948225</td>\n",
       "      <td>575.644627</td>\n",
       "      <td>0.935138</td>\n",
       "      <td>12.813260</td>\n",
       "      <td>4.196096e+07</td>\n",
       "      <td>1.988557e+08</td>\n",
       "    </tr>\n",
       "    <tr>\n",
       "      <th>min</th>\n",
       "      <td>0.000065</td>\n",
       "      <td>1.000000e+00</td>\n",
       "      <td>2.000000e+00</td>\n",
       "      <td>2.000000</td>\n",
       "      <td>10.000000</td>\n",
       "      <td>1.500000</td>\n",
       "      <td>1960.000000</td>\n",
       "      <td>9.210911e-01</td>\n",
       "      <td>2.370705e+00</td>\n",
       "    </tr>\n",
       "    <tr>\n",
       "      <th>25%</th>\n",
       "      <td>0.207575</td>\n",
       "      <td>6.000000e+06</td>\n",
       "      <td>7.732325e+06</td>\n",
       "      <td>90.000000</td>\n",
       "      <td>17.000000</td>\n",
       "      <td>5.400000</td>\n",
       "      <td>1995.000000</td>\n",
       "      <td>8.102293e+06</td>\n",
       "      <td>1.046585e+07</td>\n",
       "    </tr>\n",
       "    <tr>\n",
       "      <th>50%</th>\n",
       "      <td>0.383831</td>\n",
       "      <td>1.700000e+07</td>\n",
       "      <td>3.185308e+07</td>\n",
       "      <td>99.000000</td>\n",
       "      <td>38.000000</td>\n",
       "      <td>6.000000</td>\n",
       "      <td>2006.000000</td>\n",
       "      <td>2.271505e+07</td>\n",
       "      <td>4.395666e+07</td>\n",
       "    </tr>\n",
       "    <tr>\n",
       "      <th>75%</th>\n",
       "      <td>0.713857</td>\n",
       "      <td>4.000000e+07</td>\n",
       "      <td>9.996575e+07</td>\n",
       "      <td>112.000000</td>\n",
       "      <td>146.000000</td>\n",
       "      <td>6.600000</td>\n",
       "      <td>2011.000000</td>\n",
       "      <td>5.008384e+07</td>\n",
       "      <td>1.316482e+08</td>\n",
       "    </tr>\n",
       "    <tr>\n",
       "      <th>max</th>\n",
       "      <td>32.985763</td>\n",
       "      <td>4.250000e+08</td>\n",
       "      <td>2.781506e+09</td>\n",
       "      <td>900.000000</td>\n",
       "      <td>9767.000000</td>\n",
       "      <td>9.200000</td>\n",
       "      <td>2015.000000</td>\n",
       "      <td>4.250000e+08</td>\n",
       "      <td>2.827124e+09</td>\n",
       "    </tr>\n",
       "  </tbody>\n",
       "</table>\n",
       "</div>"
      ],
      "text/plain": [
       "         popularity        budget       revenue       runtime    vote_count  \\\n",
       "count  10865.000000  5.169000e+03  4.849000e+03  10834.000000  10865.000000   \n",
       "mean       0.646446  3.073958e+07  8.923886e+07    102.363855    217.399632   \n",
       "std        1.000231  3.890441e+07  1.620801e+08     30.948225    575.644627   \n",
       "min        0.000065  1.000000e+00  2.000000e+00      2.000000     10.000000   \n",
       "25%        0.207575  6.000000e+06  7.732325e+06     90.000000     17.000000   \n",
       "50%        0.383831  1.700000e+07  3.185308e+07     99.000000     38.000000   \n",
       "75%        0.713857  4.000000e+07  9.996575e+07    112.000000    146.000000   \n",
       "max       32.985763  4.250000e+08  2.781506e+09    900.000000   9767.000000   \n",
       "\n",
       "       vote_average  release_year    budget_adj   revenue_adj  \n",
       "count  10865.000000  10865.000000  5.169000e+03  4.849000e+03  \n",
       "mean       5.975012   2001.321859  3.688907e+07  1.151009e+08  \n",
       "std        0.935138     12.813260  4.196096e+07  1.988557e+08  \n",
       "min        1.500000   1960.000000  9.210911e-01  2.370705e+00  \n",
       "25%        5.400000   1995.000000  8.102293e+06  1.046585e+07  \n",
       "50%        6.000000   2006.000000  2.271505e+07  4.395666e+07  \n",
       "75%        6.600000   2011.000000  5.008384e+07  1.316482e+08  \n",
       "max        9.200000   2015.000000  4.250000e+08  2.827124e+09  "
      ]
     },
     "execution_count": 17,
     "metadata": {},
     "output_type": "execute_result"
    }
   ],
   "source": [
    "df.describe()"
   ]
  },
  {
   "cell_type": "code",
   "execution_count": 18,
   "metadata": {},
   "outputs": [],
   "source": [
    "#Replacing invalid budget data with the mean\n",
    "bud_mean = df.budget.mean()\n",
    "df['budget'] = df['budget'].replace(to_replace = 0, value = bud_mean)"
   ]
  },
  {
   "cell_type": "code",
   "execution_count": 19,
   "metadata": {},
   "outputs": [],
   "source": [
    "#Replacing invalid revenue data with the mean\n",
    "rev_mean = df.revenue.mean()\n",
    "df['revenue'] = df['revenue'].replace(to_replace = 0, value = rev_mean)"
   ]
  },
  {
   "cell_type": "code",
   "execution_count": 20,
   "metadata": {},
   "outputs": [],
   "source": [
    "#Replacing invalid runtime data with the mean\n",
    "rnt_mean = df.runtime.mean()\n",
    "df['runtime'] = df['runtime'].replace(to_replace = 0, value = rnt_mean)"
   ]
  },
  {
   "cell_type": "code",
   "execution_count": 21,
   "metadata": {
    "scrolled": false
   },
   "outputs": [
    {
     "data": {
      "text/html": [
       "<div>\n",
       "<style scoped>\n",
       "    .dataframe tbody tr th:only-of-type {\n",
       "        vertical-align: middle;\n",
       "    }\n",
       "\n",
       "    .dataframe tbody tr th {\n",
       "        vertical-align: top;\n",
       "    }\n",
       "\n",
       "    .dataframe thead th {\n",
       "        text-align: right;\n",
       "    }\n",
       "</style>\n",
       "<table border=\"1\" class=\"dataframe\">\n",
       "  <thead>\n",
       "    <tr style=\"text-align: right;\">\n",
       "      <th></th>\n",
       "      <th>popularity</th>\n",
       "      <th>budget</th>\n",
       "      <th>revenue</th>\n",
       "      <th>runtime</th>\n",
       "      <th>vote_count</th>\n",
       "      <th>vote_average</th>\n",
       "      <th>release_year</th>\n",
       "      <th>budget_adj</th>\n",
       "      <th>revenue_adj</th>\n",
       "    </tr>\n",
       "  </thead>\n",
       "  <tbody>\n",
       "    <tr>\n",
       "      <th>count</th>\n",
       "      <td>10865.000000</td>\n",
       "      <td>5.169000e+03</td>\n",
       "      <td>4.849000e+03</td>\n",
       "      <td>10834.000000</td>\n",
       "      <td>10865.000000</td>\n",
       "      <td>10865.000000</td>\n",
       "      <td>10865.000000</td>\n",
       "      <td>5.169000e+03</td>\n",
       "      <td>4.849000e+03</td>\n",
       "    </tr>\n",
       "    <tr>\n",
       "      <th>mean</th>\n",
       "      <td>0.646446</td>\n",
       "      <td>3.073958e+07</td>\n",
       "      <td>8.923886e+07</td>\n",
       "      <td>102.363855</td>\n",
       "      <td>217.399632</td>\n",
       "      <td>5.975012</td>\n",
       "      <td>2001.321859</td>\n",
       "      <td>3.688907e+07</td>\n",
       "      <td>1.151009e+08</td>\n",
       "    </tr>\n",
       "    <tr>\n",
       "      <th>std</th>\n",
       "      <td>1.000231</td>\n",
       "      <td>3.890441e+07</td>\n",
       "      <td>1.620801e+08</td>\n",
       "      <td>30.948225</td>\n",
       "      <td>575.644627</td>\n",
       "      <td>0.935138</td>\n",
       "      <td>12.813260</td>\n",
       "      <td>4.196096e+07</td>\n",
       "      <td>1.988557e+08</td>\n",
       "    </tr>\n",
       "    <tr>\n",
       "      <th>min</th>\n",
       "      <td>0.000065</td>\n",
       "      <td>1.000000e+00</td>\n",
       "      <td>2.000000e+00</td>\n",
       "      <td>2.000000</td>\n",
       "      <td>10.000000</td>\n",
       "      <td>1.500000</td>\n",
       "      <td>1960.000000</td>\n",
       "      <td>9.210911e-01</td>\n",
       "      <td>2.370705e+00</td>\n",
       "    </tr>\n",
       "    <tr>\n",
       "      <th>25%</th>\n",
       "      <td>0.207575</td>\n",
       "      <td>6.000000e+06</td>\n",
       "      <td>7.732325e+06</td>\n",
       "      <td>90.000000</td>\n",
       "      <td>17.000000</td>\n",
       "      <td>5.400000</td>\n",
       "      <td>1995.000000</td>\n",
       "      <td>8.102293e+06</td>\n",
       "      <td>1.046585e+07</td>\n",
       "    </tr>\n",
       "    <tr>\n",
       "      <th>50%</th>\n",
       "      <td>0.383831</td>\n",
       "      <td>1.700000e+07</td>\n",
       "      <td>3.185308e+07</td>\n",
       "      <td>99.000000</td>\n",
       "      <td>38.000000</td>\n",
       "      <td>6.000000</td>\n",
       "      <td>2006.000000</td>\n",
       "      <td>2.271505e+07</td>\n",
       "      <td>4.395666e+07</td>\n",
       "    </tr>\n",
       "    <tr>\n",
       "      <th>75%</th>\n",
       "      <td>0.713857</td>\n",
       "      <td>4.000000e+07</td>\n",
       "      <td>9.996575e+07</td>\n",
       "      <td>112.000000</td>\n",
       "      <td>146.000000</td>\n",
       "      <td>6.600000</td>\n",
       "      <td>2011.000000</td>\n",
       "      <td>5.008384e+07</td>\n",
       "      <td>1.316482e+08</td>\n",
       "    </tr>\n",
       "    <tr>\n",
       "      <th>max</th>\n",
       "      <td>32.985763</td>\n",
       "      <td>4.250000e+08</td>\n",
       "      <td>2.781506e+09</td>\n",
       "      <td>900.000000</td>\n",
       "      <td>9767.000000</td>\n",
       "      <td>9.200000</td>\n",
       "      <td>2015.000000</td>\n",
       "      <td>4.250000e+08</td>\n",
       "      <td>2.827124e+09</td>\n",
       "    </tr>\n",
       "  </tbody>\n",
       "</table>\n",
       "</div>"
      ],
      "text/plain": [
       "         popularity        budget       revenue       runtime    vote_count  \\\n",
       "count  10865.000000  5.169000e+03  4.849000e+03  10834.000000  10865.000000   \n",
       "mean       0.646446  3.073958e+07  8.923886e+07    102.363855    217.399632   \n",
       "std        1.000231  3.890441e+07  1.620801e+08     30.948225    575.644627   \n",
       "min        0.000065  1.000000e+00  2.000000e+00      2.000000     10.000000   \n",
       "25%        0.207575  6.000000e+06  7.732325e+06     90.000000     17.000000   \n",
       "50%        0.383831  1.700000e+07  3.185308e+07     99.000000     38.000000   \n",
       "75%        0.713857  4.000000e+07  9.996575e+07    112.000000    146.000000   \n",
       "max       32.985763  4.250000e+08  2.781506e+09    900.000000   9767.000000   \n",
       "\n",
       "       vote_average  release_year    budget_adj   revenue_adj  \n",
       "count  10865.000000  10865.000000  5.169000e+03  4.849000e+03  \n",
       "mean       5.975012   2001.321859  3.688907e+07  1.151009e+08  \n",
       "std        0.935138     12.813260  4.196096e+07  1.988557e+08  \n",
       "min        1.500000   1960.000000  9.210911e-01  2.370705e+00  \n",
       "25%        5.400000   1995.000000  8.102293e+06  1.046585e+07  \n",
       "50%        6.000000   2006.000000  2.271505e+07  4.395666e+07  \n",
       "75%        6.600000   2011.000000  5.008384e+07  1.316482e+08  \n",
       "max        9.200000   2015.000000  4.250000e+08  2.827124e+09  "
      ]
     },
     "execution_count": 21,
     "metadata": {},
     "output_type": "execute_result"
    }
   ],
   "source": [
    "df.describe()"
   ]
  },
  {
   "cell_type": "code",
   "execution_count": 22,
   "metadata": {},
   "outputs": [
    {
     "data": {
      "text/plain": [
       "0          6/9/2015\n",
       "1         5/13/2015\n",
       "2         3/18/2015\n",
       "3        12/15/2015\n",
       "4          4/1/2015\n",
       "            ...    \n",
       "10861     6/15/1966\n",
       "10862    12/21/1966\n",
       "10863      1/1/1966\n",
       "10864     11/2/1966\n",
       "10865    11/15/1966\n",
       "Name: release_date, Length: 10865, dtype: object"
      ]
     },
     "execution_count": 22,
     "metadata": {},
     "output_type": "execute_result"
    }
   ],
   "source": [
    "# Fixing the 2 digits problem in the release date columns so the conversion goes right\n",
    "df['release_date'] = df.apply(lambda col: f\"{col['release_date'][:-2]}{col['release_year']}\",axis=1)\n",
    "df['release_date']"
   ]
  },
  {
   "cell_type": "code",
   "execution_count": 23,
   "metadata": {
    "scrolled": true
   },
   "outputs": [
    {
     "data": {
      "text/plain": [
       "0       2015-06-09\n",
       "1       2015-05-13\n",
       "2       2015-03-18\n",
       "3       2015-12-15\n",
       "4       2015-04-01\n",
       "           ...    \n",
       "10861   1966-06-15\n",
       "10862   1966-12-21\n",
       "10863   1966-01-01\n",
       "10864   1966-11-02\n",
       "10865   1966-11-15\n",
       "Name: release_date, Length: 10865, dtype: datetime64[ns]"
      ]
     },
     "execution_count": 23,
     "metadata": {},
     "output_type": "execute_result"
    }
   ],
   "source": [
    "#Converting the release date column to datetime\n",
    "df['release_date'] = pd.to_datetime(df['release_date'])\n",
    "df['release_date']"
   ]
  },
  {
   "cell_type": "code",
   "execution_count": 24,
   "metadata": {
    "scrolled": true
   },
   "outputs": [
    {
     "name": "stdout",
     "output_type": "stream",
     "text": [
      "<class 'pandas.core.frame.DataFrame'>\n",
      "Int64Index: 10865 entries, 0 to 10865\n",
      "Data columns (total 13 columns):\n",
      " #   Column                Non-Null Count  Dtype         \n",
      "---  ------                --------------  -----         \n",
      " 0   popularity            10865 non-null  float64       \n",
      " 1   budget                5169 non-null   float64       \n",
      " 2   revenue               4849 non-null   float64       \n",
      " 3   original_title        10865 non-null  object        \n",
      " 4   runtime               10834 non-null  float64       \n",
      " 5   genres                10865 non-null  object        \n",
      " 6   production_companies  9835 non-null   object        \n",
      " 7   release_date          10865 non-null  datetime64[ns]\n",
      " 8   vote_count            10865 non-null  int64         \n",
      " 9   vote_average          10865 non-null  float64       \n",
      " 10  release_year          10865 non-null  int64         \n",
      " 11  budget_adj            5169 non-null   float64       \n",
      " 12  revenue_adj           4849 non-null   float64       \n",
      "dtypes: datetime64[ns](1), float64(7), int64(2), object(3)\n",
      "memory usage: 1.2+ MB\n"
     ]
    }
   ],
   "source": [
    "df.info()"
   ]
  },
  {
   "cell_type": "markdown",
   "metadata": {},
   "source": [
    "**We notice that revenue and budget columns have more than 50% missing values**"
   ]
  },
  {
   "cell_type": "markdown",
   "metadata": {},
   "source": [
    "<a id='eda'></a>\n",
    "## Exploratory Data Analysis"
   ]
  },
  {
   "cell_type": "code",
   "execution_count": 25,
   "metadata": {
    "scrolled": true
   },
   "outputs": [
    {
     "data": {
      "image/png": "[encoded data removed]",
      "text/plain": [
       "<Figure size 2880x2880 with 2 Axes>"
      ]
     },
     "metadata": {
      "needs_background": "light"
     },
     "output_type": "display_data"
    }
   ],
   "source": [
    "# Calculating the correlation between all features to find out which ones have a strong correlation (double clic to zoom)\n",
    "def plot_correlation_map ():\n",
    "    corr = df.corr ()\n",
    "    s, ax = plt.subplots (figsize = (40, 40))\n",
    "    cmap = sns.diverging_palette (220, 10, as_cmap = True)\n",
    "    s = sns.heatmap (corr, cmap = cmap,square = True, cbar_kws = {'shrink': .9},ax = ax, annot = True, annot_kws = {'fontsize': 10})\n",
    "\n",
    "plot_correlation_map()"
   ]
  },
  {
   "cell_type": "markdown",
   "metadata": {},
   "source": [
    "**We notice some variables have strong correlation between each others while others don't**"
   ]
  },
  {
   "cell_type": "markdown",
   "metadata": {},
   "source": [
    "### Research Question 1 : What is the average runtime for popular movies ?"
   ]
  },
  {
   "cell_type": "code",
   "execution_count": 26,
   "metadata": {},
   "outputs": [],
   "source": [
    "#Extracting the most popular movies\n",
    "high_pop_qt = df.popularity.quantile(.75)\n",
    "high_pop = df[df['popularity'] > high_pop_qt]\n",
    "high_pop_rt = high_pop['runtime']"
   ]
  },
  {
   "cell_type": "code",
   "execution_count": 27,
   "metadata": {
    "scrolled": false
   },
   "outputs": [
    {
     "data": {
      "text/plain": [
       "count    2715.000000\n",
       "mean      108.427993\n",
       "std        23.806645\n",
       "min         3.000000\n",
       "25%        95.000000\n",
       "50%       105.000000\n",
       "75%       119.000000\n",
       "max       540.000000\n",
       "Name: runtime, dtype: float64"
      ]
     },
     "execution_count": 27,
     "metadata": {},
     "output_type": "execute_result"
    }
   ],
   "source": [
    "high_pop_rt.describe()"
   ]
  },
  {
   "cell_type": "code",
   "execution_count": 28,
   "metadata": {},
   "outputs": [
    {
     "data": {
      "text/plain": [
       "Text(0.5, 1.0, 'Runtime Distribution')"
      ]
     },
     "execution_count": 28,
     "metadata": {},
     "output_type": "execute_result"
    },
    {
     "data": {
      "image/png": "[encoded data removed]",
      "text/plain": [
       "<Figure size 432x288 with 1 Axes>"
      ]
     },
     "metadata": {
      "needs_background": "light"
     },
     "output_type": "display_data"
    }
   ],
   "source": [
    "# Drawing the histogram of high popularity movies's runtime\n",
    "high_pop_rt.hist(grid =False)\n",
    "plt.xlabel('Movie duration in minutes')\n",
    "plt.ylabel('Frequency')\n",
    "plt.title('Runtime Distribution')\n",
    "# Checking movies runtime distribution"
   ]
  },
  {
   "cell_type": "markdown",
   "metadata": {},
   "source": [
    "**Most movies have a duration rate between 70 and 120 minutes**"
   ]
  },
  {
   "cell_type": "code",
   "execution_count": 29,
   "metadata": {},
   "outputs": [
    {
     "data": {
      "text/plain": [
       "119.0"
      ]
     },
     "execution_count": 29,
     "metadata": {},
     "output_type": "execute_result"
    }
   ],
   "source": [
    "# More than 50% of movies lasts more than 2hours\n",
    "high_pop_rt.quantile(.75)"
   ]
  },
  {
   "cell_type": "markdown",
   "metadata": {},
   "source": [
    "### Research Question 2 :  Which genres are most popular from year to year ?"
   ]
  },
  {
   "cell_type": "code",
   "execution_count": 30,
   "metadata": {},
   "outputs": [
    {
     "data": {
      "text/html": [
       "<div>\n",
       "<style scoped>\n",
       "    .dataframe tbody tr th:only-of-type {\n",
       "        vertical-align: middle;\n",
       "    }\n",
       "\n",
       "    .dataframe tbody tr th {\n",
       "        vertical-align: top;\n",
       "    }\n",
       "\n",
       "    .dataframe thead th {\n",
       "        text-align: right;\n",
       "    }\n",
       "</style>\n",
       "<table border=\"1\" class=\"dataframe\">\n",
       "  <thead>\n",
       "    <tr style=\"text-align: right;\">\n",
       "      <th></th>\n",
       "      <th>popularity</th>\n",
       "      <th>genres</th>\n",
       "      <th>release_year</th>\n",
       "    </tr>\n",
       "  </thead>\n",
       "  <tbody>\n",
       "    <tr>\n",
       "      <th>0</th>\n",
       "      <td>32.985763</td>\n",
       "      <td>Action|Adventure|Science Fiction|Thriller</td>\n",
       "      <td>2015</td>\n",
       "    </tr>\n",
       "    <tr>\n",
       "      <th>1</th>\n",
       "      <td>28.419936</td>\n",
       "      <td>Action|Adventure|Science Fiction|Thriller</td>\n",
       "      <td>2015</td>\n",
       "    </tr>\n",
       "    <tr>\n",
       "      <th>2</th>\n",
       "      <td>13.112507</td>\n",
       "      <td>Adventure|Science Fiction|Thriller</td>\n",
       "      <td>2015</td>\n",
       "    </tr>\n",
       "    <tr>\n",
       "      <th>3</th>\n",
       "      <td>11.173104</td>\n",
       "      <td>Action|Adventure|Science Fiction|Fantasy</td>\n",
       "      <td>2015</td>\n",
       "    </tr>\n",
       "    <tr>\n",
       "      <th>4</th>\n",
       "      <td>9.335014</td>\n",
       "      <td>Action|Crime|Thriller</td>\n",
       "      <td>2015</td>\n",
       "    </tr>\n",
       "    <tr>\n",
       "      <th>...</th>\n",
       "      <td>...</td>\n",
       "      <td>...</td>\n",
       "      <td>...</td>\n",
       "    </tr>\n",
       "    <tr>\n",
       "      <th>10861</th>\n",
       "      <td>0.080598</td>\n",
       "      <td>Documentary</td>\n",
       "      <td>1966</td>\n",
       "    </tr>\n",
       "    <tr>\n",
       "      <th>10862</th>\n",
       "      <td>0.065543</td>\n",
       "      <td>Action|Adventure|Drama</td>\n",
       "      <td>1966</td>\n",
       "    </tr>\n",
       "    <tr>\n",
       "      <th>10863</th>\n",
       "      <td>0.065141</td>\n",
       "      <td>Mystery|Comedy</td>\n",
       "      <td>1966</td>\n",
       "    </tr>\n",
       "    <tr>\n",
       "      <th>10864</th>\n",
       "      <td>0.064317</td>\n",
       "      <td>Action|Comedy</td>\n",
       "      <td>1966</td>\n",
       "    </tr>\n",
       "    <tr>\n",
       "      <th>10865</th>\n",
       "      <td>0.035919</td>\n",
       "      <td>Horror</td>\n",
       "      <td>1966</td>\n",
       "    </tr>\n",
       "  </tbody>\n",
       "</table>\n",
       "<p>10865 rows × 3 columns</p>\n",
       "</div>"
      ],
      "text/plain": [
       "       popularity                                     genres  release_year\n",
       "0       32.985763  Action|Adventure|Science Fiction|Thriller          2015\n",
       "1       28.419936  Action|Adventure|Science Fiction|Thriller          2015\n",
       "2       13.112507         Adventure|Science Fiction|Thriller          2015\n",
       "3       11.173104   Action|Adventure|Science Fiction|Fantasy          2015\n",
       "4        9.335014                      Action|Crime|Thriller          2015\n",
       "...           ...                                        ...           ...\n",
       "10861    0.080598                                Documentary          1966\n",
       "10862    0.065543                     Action|Adventure|Drama          1966\n",
       "10863    0.065141                             Mystery|Comedy          1966\n",
       "10864    0.064317                              Action|Comedy          1966\n",
       "10865    0.035919                                     Horror          1966\n",
       "\n",
       "[10865 rows x 3 columns]"
      ]
     },
     "execution_count": 30,
     "metadata": {},
     "output_type": "execute_result"
    }
   ],
   "source": [
    "# Creating a new DataFrame and assigning useful columns \n",
    "pop_gen = df[['popularity','genres','release_year']]\n",
    "pop_gen"
   ]
  },
  {
   "cell_type": "code",
   "execution_count": 31,
   "metadata": {},
   "outputs": [],
   "source": [
    "# We have to split concatenated genres into rows for better analysis\n",
    "import itertools\n",
    "def concat(ch):\n",
    "    return list(itertools.chain.from_iterable(ch.str.split('|')))\n",
    "\n",
    "lengths = pop_gen['genres'].str.split('|').map(len)\n",
    "# Creating a new dataframe with splitted rows\n",
    "pop_gen = pd.DataFrame({'release_year' : np.repeat(pop_gen['release_year'], lengths),\n",
    "                                                   'genres' : concat(pop_gen['genres']),\n",
    "                                                   'popularity' : np.repeat(pop_gen['popularity'], lengths)})"
   ]
  },
  {
   "cell_type": "markdown",
   "metadata": {},
   "source": [
    "**We need to select the most popular genre for each year**"
   ]
  },
  {
   "cell_type": "code",
   "execution_count": 32,
   "metadata": {},
   "outputs": [
    {
     "data": {
      "text/html": [
       "<div>\n",
       "<style scoped>\n",
       "    .dataframe tbody tr th:only-of-type {\n",
       "        vertical-align: middle;\n",
       "    }\n",
       "\n",
       "    .dataframe tbody tr th {\n",
       "        vertical-align: top;\n",
       "    }\n",
       "\n",
       "    .dataframe thead th {\n",
       "        text-align: right;\n",
       "    }\n",
       "</style>\n",
       "<table border=\"1\" class=\"dataframe\">\n",
       "  <thead>\n",
       "    <tr style=\"text-align: right;\">\n",
       "      <th></th>\n",
       "      <th>release_year</th>\n",
       "      <th>genres</th>\n",
       "      <th>popularity</th>\n",
       "    </tr>\n",
       "  </thead>\n",
       "  <tbody>\n",
       "    <tr>\n",
       "      <th>0</th>\n",
       "      <td>1960</td>\n",
       "      <td>Action</td>\n",
       "      <td>0.590724</td>\n",
       "    </tr>\n",
       "    <tr>\n",
       "      <th>1</th>\n",
       "      <td>1960</td>\n",
       "      <td>Adventure</td>\n",
       "      <td>0.700981</td>\n",
       "    </tr>\n",
       "    <tr>\n",
       "      <th>2</th>\n",
       "      <td>1960</td>\n",
       "      <td>Comedy</td>\n",
       "      <td>0.396000</td>\n",
       "    </tr>\n",
       "    <tr>\n",
       "      <th>3</th>\n",
       "      <td>1960</td>\n",
       "      <td>Crime</td>\n",
       "      <td>0.346479</td>\n",
       "    </tr>\n",
       "    <tr>\n",
       "      <th>4</th>\n",
       "      <td>1960</td>\n",
       "      <td>Drama</td>\n",
       "      <td>0.566305</td>\n",
       "    </tr>\n",
       "    <tr>\n",
       "      <th>...</th>\n",
       "      <td>...</td>\n",
       "      <td>...</td>\n",
       "      <td>...</td>\n",
       "    </tr>\n",
       "    <tr>\n",
       "      <th>1044</th>\n",
       "      <td>2015</td>\n",
       "      <td>Science Fiction</td>\n",
       "      <td>2.245603</td>\n",
       "    </tr>\n",
       "    <tr>\n",
       "      <th>1045</th>\n",
       "      <td>2015</td>\n",
       "      <td>TV Movie</td>\n",
       "      <td>0.260574</td>\n",
       "    </tr>\n",
       "    <tr>\n",
       "      <th>1046</th>\n",
       "      <td>2015</td>\n",
       "      <td>Thriller</td>\n",
       "      <td>1.401877</td>\n",
       "    </tr>\n",
       "    <tr>\n",
       "      <th>1047</th>\n",
       "      <td>2015</td>\n",
       "      <td>War</td>\n",
       "      <td>1.284511</td>\n",
       "    </tr>\n",
       "    <tr>\n",
       "      <th>1048</th>\n",
       "      <td>2015</td>\n",
       "      <td>Western</td>\n",
       "      <td>3.178796</td>\n",
       "    </tr>\n",
       "  </tbody>\n",
       "</table>\n",
       "<p>1049 rows × 3 columns</p>\n",
       "</div>"
      ],
      "text/plain": [
       "      release_year           genres  popularity\n",
       "0             1960           Action    0.590724\n",
       "1             1960        Adventure    0.700981\n",
       "2             1960           Comedy    0.396000\n",
       "3             1960            Crime    0.346479\n",
       "4             1960            Drama    0.566305\n",
       "...            ...              ...         ...\n",
       "1044          2015  Science Fiction    2.245603\n",
       "1045          2015         TV Movie    0.260574\n",
       "1046          2015         Thriller    1.401877\n",
       "1047          2015              War    1.284511\n",
       "1048          2015          Western    3.178796\n",
       "\n",
       "[1049 rows x 3 columns]"
      ]
     },
     "execution_count": 32,
     "metadata": {},
     "output_type": "execute_result"
    }
   ],
   "source": [
    "# Grouping each genre and its release year with their corresponding population mean without setting them as an index\n",
    "pop_gen = pop_gen.groupby(['release_year','genres'],as_index = False).mean()\n",
    "pop_gen"
   ]
  },
  {
   "cell_type": "code",
   "execution_count": 33,
   "metadata": {},
   "outputs": [],
   "source": [
    "# Selecting the most popular genre for each year\n",
    "high_pop = pop_gen.groupby('release_year', as_index= False).apply(lambda x : x.loc[x['popularity'\n",
    "                                                                    ] == x['popularity'].max()])"
   ]
  },
  {
   "cell_type": "code",
   "execution_count": 34,
   "metadata": {},
   "outputs": [
    {
     "data": {
      "image/png": "[encoded data removed]",
      "text/plain": [
       "<Figure size 432x288 with 1 Axes>"
      ]
     },
     "metadata": {
      "needs_background": "light"
     },
     "output_type": "display_data"
    }
   ],
   "source": [
    "# Plotting the most popular genres over the years\n",
    "high_pop.plot(grid = True ,kind = 'scatter', x = 'release_year', y = 'genres', color = 'green', title= 'Most popular genres over the years')\n",
    "plt.show()\n",
    "# We want to see the most popular genre each year"
   ]
  },
  {
   "cell_type": "markdown",
   "metadata": {},
   "source": [
    "**We observe that each year the popular genres varies from one to another except few years :> Fantasy is the mot popular genres from 2000 to 2008**"
   ]
  },
  {
   "cell_type": "code",
   "execution_count": 35,
   "metadata": {},
   "outputs": [
    {
     "data": {
      "text/plain": [
       "0    Adventure\n",
       "Name: genres, dtype: object"
      ]
     },
     "execution_count": 35,
     "metadata": {},
     "output_type": "execute_result"
    }
   ],
   "source": [
    "high_pop['genres'].mode()"
   ]
  },
  {
   "cell_type": "markdown",
   "metadata": {},
   "source": [
    "### Research Question 3 :  What kind of properties associated with high budget movies ?"
   ]
  },
  {
   "cell_type": "code",
   "execution_count": 36,
   "metadata": {},
   "outputs": [
    {
     "data": {
      "text/plain": [
       "count    5.169000e+03\n",
       "mean     3.073958e+07\n",
       "std      3.890441e+07\n",
       "min      1.000000e+00\n",
       "25%      6.000000e+06\n",
       "50%      1.700000e+07\n",
       "75%      4.000000e+07\n",
       "max      4.250000e+08\n",
       "Name: budget, dtype: float64"
      ]
     },
     "execution_count": 36,
     "metadata": {},
     "output_type": "execute_result"
    }
   ],
   "source": [
    "# Exploring the budget column\n",
    "df['budget'].describe()"
   ]
  },
  {
   "cell_type": "code",
   "execution_count": 37,
   "metadata": {
    "scrolled": false
   },
   "outputs": [
    {
     "data": {
      "text/plain": [
       "Text(0.5, 1.0, 'Budget Distribution')"
      ]
     },
     "execution_count": 37,
     "metadata": {},
     "output_type": "execute_result"
    },
    {
     "data": {
      "image/png": "[encoded data removed]",
      "text/plain": [
       "<Figure size 432x288 with 1 Axes>"
      ]
     },
     "metadata": {
      "needs_background": "light"
     },
     "output_type": "display_data"
    }
   ],
   "source": [
    "# Drawing the histogram for the budget column\n",
    "# We want to see the frequency of movies with low / high budget\n",
    "df['budget'].hist(grid=False ,color='green', edgecolor='black')\n",
    "plt.xlabel('Budget')\n",
    "plt.ylabel('Frequency')\n",
    "plt.title('Budget Distribution')"
   ]
  },
  {
   "cell_type": "markdown",
   "metadata": {},
   "source": [
    "**Right skewed histogram :> As we can see movies with low budget is less than those with a high budget**"
   ]
  },
  {
   "cell_type": "code",
   "execution_count": 38,
   "metadata": {},
   "outputs": [
    {
     "data": {
      "image/png": "[encoded data removed]",
      "text/plain": [
       "<Figure size 432x288 with 1 Axes>"
      ]
     },
     "metadata": {
      "needs_background": "light"
     },
     "output_type": "display_data"
    }
   ],
   "source": [
    "# Plotting the budget amount spent over the years\n",
    "budget_per_year = df.groupby('release_year')['budget'].mean()\n",
    "plt.plot(budget_per_year)\n",
    "plt.title('Budget spent on movies over the year')\n",
    "plt.xlabel('Year')\n",
    "plt.ylabel('budget')\n",
    "plt.show()"
   ]
  },
  {
   "cell_type": "code",
   "execution_count": 39,
   "metadata": {
    "scrolled": false
   },
   "outputs": [
    {
     "data": {
      "image/png": "[encoded data removed]",
      "text/plain": [
       "<Figure size 432x288 with 1 Axes>"
      ]
     },
     "metadata": {
      "needs_background": "light"
     },
     "output_type": "display_data"
    }
   ],
   "source": [
    "# Plotting the comparison between budgets over the years\n",
    "plt.bar(budget_per_year.index, budget_per_year.values, width = 0.8)\n",
    "plt.title('Budget comparison over the years')\n",
    "plt.xlabel('Years')\n",
    "plt.ylabel('Budget')\n",
    "plt.show()"
   ]
  },
  {
   "cell_type": "markdown",
   "metadata": {},
   "source": [
    "**There is an obvious increase in the budget rate, The peak is located in the end of 1990s and in the beginning of the 2000s**"
   ]
  },
  {
   "cell_type": "code",
   "execution_count": 40,
   "metadata": {},
   "outputs": [
    {
     "data": {
      "text/html": [
       "<div>\n",
       "<style scoped>\n",
       "    .dataframe tbody tr th:only-of-type {\n",
       "        vertical-align: middle;\n",
       "    }\n",
       "\n",
       "    .dataframe tbody tr th {\n",
       "        vertical-align: top;\n",
       "    }\n",
       "\n",
       "    .dataframe thead th {\n",
       "        text-align: right;\n",
       "    }\n",
       "</style>\n",
       "<table border=\"1\" class=\"dataframe\">\n",
       "  <thead>\n",
       "    <tr style=\"text-align: right;\">\n",
       "      <th></th>\n",
       "      <th>popularity</th>\n",
       "      <th>budget</th>\n",
       "      <th>revenue</th>\n",
       "      <th>runtime</th>\n",
       "      <th>vote_count</th>\n",
       "      <th>vote_average</th>\n",
       "      <th>release_year</th>\n",
       "      <th>budget_adj</th>\n",
       "      <th>revenue_adj</th>\n",
       "    </tr>\n",
       "  </thead>\n",
       "  <tbody>\n",
       "    <tr>\n",
       "      <th>count</th>\n",
       "      <td>1610.000000</td>\n",
       "      <td>1.610000e+03</td>\n",
       "      <td>1.492000e+03</td>\n",
       "      <td>1610.000000</td>\n",
       "      <td>1610.000000</td>\n",
       "      <td>1610.000000</td>\n",
       "      <td>1610.000000</td>\n",
       "      <td>1.610000e+03</td>\n",
       "      <td>1.492000e+03</td>\n",
       "    </tr>\n",
       "    <tr>\n",
       "      <th>mean</th>\n",
       "      <td>1.633981</td>\n",
       "      <td>7.340075e+07</td>\n",
       "      <td>2.052036e+08</td>\n",
       "      <td>114.604348</td>\n",
       "      <td>848.940994</td>\n",
       "      <td>6.094099</td>\n",
       "      <td>2004.285093</td>\n",
       "      <td>8.301328e+07</td>\n",
       "      <td>2.293496e+08</td>\n",
       "    </tr>\n",
       "    <tr>\n",
       "      <th>std</th>\n",
       "      <td>1.940911</td>\n",
       "      <td>4.513349e+07</td>\n",
       "      <td>2.381832e+08</td>\n",
       "      <td>24.265403</td>\n",
       "      <td>1157.200985</td>\n",
       "      <td>0.765904</td>\n",
       "      <td>7.242327</td>\n",
       "      <td>4.563317e+07</td>\n",
       "      <td>2.547410e+08</td>\n",
       "    </tr>\n",
       "    <tr>\n",
       "      <th>min</th>\n",
       "      <td>0.017498</td>\n",
       "      <td>3.100000e+07</td>\n",
       "      <td>1.440000e+02</td>\n",
       "      <td>28.000000</td>\n",
       "      <td>10.000000</td>\n",
       "      <td>2.200000</td>\n",
       "      <td>1963.000000</td>\n",
       "      <td>2.851999e+07</td>\n",
       "      <td>1.557604e+02</td>\n",
       "    </tr>\n",
       "    <tr>\n",
       "      <th>25%</th>\n",
       "      <td>0.661252</td>\n",
       "      <td>4.000000e+07</td>\n",
       "      <td>5.865208e+07</td>\n",
       "      <td>99.000000</td>\n",
       "      <td>167.000000</td>\n",
       "      <td>5.600000</td>\n",
       "      <td>1999.000000</td>\n",
       "      <td>5.024535e+07</td>\n",
       "      <td>6.689895e+07</td>\n",
       "    </tr>\n",
       "    <tr>\n",
       "      <th>50%</th>\n",
       "      <td>1.110613</td>\n",
       "      <td>6.000000e+07</td>\n",
       "      <td>1.287838e+08</td>\n",
       "      <td>111.000000</td>\n",
       "      <td>406.000000</td>\n",
       "      <td>6.100000</td>\n",
       "      <td>2005.000000</td>\n",
       "      <td>7.033395e+07</td>\n",
       "      <td>1.485517e+08</td>\n",
       "    </tr>\n",
       "    <tr>\n",
       "      <th>75%</th>\n",
       "      <td>1.906933</td>\n",
       "      <td>8.500000e+07</td>\n",
       "      <td>2.553180e+08</td>\n",
       "      <td>126.000000</td>\n",
       "      <td>1025.750000</td>\n",
       "      <td>6.600000</td>\n",
       "      <td>2010.000000</td>\n",
       "      <td>1.013034e+08</td>\n",
       "      <td>2.947645e+08</td>\n",
       "    </tr>\n",
       "    <tr>\n",
       "      <th>max</th>\n",
       "      <td>32.985763</td>\n",
       "      <td>4.250000e+08</td>\n",
       "      <td>2.781506e+09</td>\n",
       "      <td>540.000000</td>\n",
       "      <td>9767.000000</td>\n",
       "      <td>8.100000</td>\n",
       "      <td>2015.000000</td>\n",
       "      <td>4.250000e+08</td>\n",
       "      <td>2.827124e+09</td>\n",
       "    </tr>\n",
       "  </tbody>\n",
       "</table>\n",
       "</div>"
      ],
      "text/plain": [
       "        popularity        budget       revenue      runtime   vote_count  \\\n",
       "count  1610.000000  1.610000e+03  1.492000e+03  1610.000000  1610.000000   \n",
       "mean      1.633981  7.340075e+07  2.052036e+08   114.604348   848.940994   \n",
       "std       1.940911  4.513349e+07  2.381832e+08    24.265403  1157.200985   \n",
       "min       0.017498  3.100000e+07  1.440000e+02    28.000000    10.000000   \n",
       "25%       0.661252  4.000000e+07  5.865208e+07    99.000000   167.000000   \n",
       "50%       1.110613  6.000000e+07  1.287838e+08   111.000000   406.000000   \n",
       "75%       1.906933  8.500000e+07  2.553180e+08   126.000000  1025.750000   \n",
       "max      32.985763  4.250000e+08  2.781506e+09   540.000000  9767.000000   \n",
       "\n",
       "       vote_average  release_year    budget_adj   revenue_adj  \n",
       "count   1610.000000   1610.000000  1.610000e+03  1.492000e+03  \n",
       "mean       6.094099   2004.285093  8.301328e+07  2.293496e+08  \n",
       "std        0.765904      7.242327  4.563317e+07  2.547410e+08  \n",
       "min        2.200000   1963.000000  2.851999e+07  1.557604e+02  \n",
       "25%        5.600000   1999.000000  5.024535e+07  6.689895e+07  \n",
       "50%        6.100000   2005.000000  7.033395e+07  1.485517e+08  \n",
       "75%        6.600000   2010.000000  1.013034e+08  2.947645e+08  \n",
       "max        8.100000   2015.000000  4.250000e+08  2.827124e+09  "
      ]
     },
     "execution_count": 40,
     "metadata": {},
     "output_type": "execute_result"
    }
   ],
   "source": [
    "#Extracting movies with high budget\n",
    "mean = df['budget'].mean()\n",
    "high_budget = df[df['budget'] > mean]\n",
    "high_budget.describe()"
   ]
  },
  {
   "cell_type": "code",
   "execution_count": 41,
   "metadata": {
    "scrolled": true
   },
   "outputs": [
    {
     "data": {
      "image/png": "[encoded data removed]",
      "text/plain": [
       "<Figure size 432x288 with 1 Axes>"
      ]
     },
     "metadata": {
      "needs_background": "light"
     },
     "output_type": "display_data"
    }
   ],
   "source": [
    "# Plotting the correlation between budget and popularity\n",
    "high_budget.plot(kind='scatter',x='budget', y='popularity', color='green')\n",
    "plt.title('The correlation between budget and popularity')\n",
    "plt.show()"
   ]
  },
  {
   "cell_type": "markdown",
   "metadata": {},
   "source": [
    "**We can notice a slightly strong correlation between Budget and popularity :> Movies wih low budget tend to be less popular**"
   ]
  },
  {
   "cell_type": "code",
   "execution_count": 42,
   "metadata": {},
   "outputs": [
    {
     "data": {
      "image/png": "[encoded data removed]",
      "text/plain": [
       "<Figure size 432x288 with 1 Axes>"
      ]
     },
     "metadata": {
      "needs_background": "light"
     },
     "output_type": "display_data"
    }
   ],
   "source": [
    "# Plotting the correlation between budget and vote count\n",
    "high_budget.plot(kind='scatter',x='budget', y='vote_count', color='green')\n",
    "plt.title('The correlation between budget and vote count')\n",
    "plt.show()"
   ]
  },
  {
   "cell_type": "code",
   "execution_count": 43,
   "metadata": {},
   "outputs": [],
   "source": [
    "# We can notice a strong correlation between Budget and vote_count"
   ]
  },
  {
   "cell_type": "code",
   "execution_count": 44,
   "metadata": {},
   "outputs": [
    {
     "data": {
      "image/png": "[encoded data removed]",
      "text/plain": [
       "<Figure size 432x288 with 1 Axes>"
      ]
     },
     "metadata": {
      "needs_background": "light"
     },
     "output_type": "display_data"
    }
   ],
   "source": [
    "# Plotting the coorelation between budget and vote average\n",
    "high_budget.plot(kind='scatter',x='budget', y='vote_average', color='red')\n",
    "plt.title('Correlation between budget and vote average')\n",
    "plt.show()"
   ]
  },
  {
   "cell_type": "markdown",
   "metadata": {},
   "source": [
    "**We can notice a weak correlation between Budget and vote average** "
   ]
  },
  {
   "cell_type": "code",
   "execution_count": 45,
   "metadata": {
    "scrolled": true
   },
   "outputs": [
    {
     "data": {
      "image/png": "[encoded data removed]",
      "text/plain": [
       "<Figure size 432x288 with 1 Axes>"
      ]
     },
     "metadata": {
      "needs_background": "light"
     },
     "output_type": "display_data"
    }
   ],
   "source": [
    "#Plotting the correlation between budget and revenue\n",
    "high_budget.plot(kind='scatter',x='budget', y='revenue', color='green')\n",
    "plt.title('The correlation between budget and revenue')\n",
    "plt.show()"
   ]
  },
  {
   "cell_type": "markdown",
   "metadata": {},
   "source": [
    "**We notice a strong correlation between budget and revenue** :> **Movies with lower budget have less revenue**"
   ]
  },
  {
   "cell_type": "markdown",
   "metadata": {},
   "source": [
    "### Research Question 4 : Which production companies have the highest revenue over decades ?"
   ]
  },
  {
   "cell_type": "code",
   "execution_count": 46,
   "metadata": {},
   "outputs": [],
   "source": [
    "# Creating a new dataframe\n",
    "prod_cp = df[['production_companies', 'popularity', 'revenue','budget','release_year']]"
   ]
  },
  {
   "cell_type": "code",
   "execution_count": 47,
   "metadata": {
    "scrolled": true
   },
   "outputs": [],
   "source": [
    "# Converting production companies column to str to easily manipulate data\n",
    "prod = prod_cp['production_companies'].astype(str)\n",
    "# Dropping the column to replace it with the new one\n",
    "prod_cp = prod_cp.drop('production_companies', axis=1)"
   ]
  },
  {
   "cell_type": "code",
   "execution_count": 48,
   "metadata": {},
   "outputs": [],
   "source": [
    "# Assigning the new converted column to the dataframe\n",
    "prod_cp['production_companies'] = prod"
   ]
  },
  {
   "cell_type": "code",
   "execution_count": 49,
   "metadata": {},
   "outputs": [
    {
     "data": {
      "text/html": [
       "<div>\n",
       "<style scoped>\n",
       "    .dataframe tbody tr th:only-of-type {\n",
       "        vertical-align: middle;\n",
       "    }\n",
       "\n",
       "    .dataframe tbody tr th {\n",
       "        vertical-align: top;\n",
       "    }\n",
       "\n",
       "    .dataframe thead th {\n",
       "        text-align: right;\n",
       "    }\n",
       "</style>\n",
       "<table border=\"1\" class=\"dataframe\">\n",
       "  <thead>\n",
       "    <tr style=\"text-align: right;\">\n",
       "      <th></th>\n",
       "      <th>popularity</th>\n",
       "      <th>revenue</th>\n",
       "      <th>budget</th>\n",
       "      <th>release_year</th>\n",
       "      <th>production_companies</th>\n",
       "    </tr>\n",
       "  </thead>\n",
       "  <tbody>\n",
       "    <tr>\n",
       "      <th>0</th>\n",
       "      <td>32.985763</td>\n",
       "      <td>1.513529e+09</td>\n",
       "      <td>150000000.0</td>\n",
       "      <td>2015</td>\n",
       "      <td>Universal Studios|Amblin Entertainment|Legenda...</td>\n",
       "    </tr>\n",
       "    <tr>\n",
       "      <th>1</th>\n",
       "      <td>28.419936</td>\n",
       "      <td>3.784364e+08</td>\n",
       "      <td>150000000.0</td>\n",
       "      <td>2015</td>\n",
       "      <td>Village Roadshow Pictures|Kennedy Miller Produ...</td>\n",
       "    </tr>\n",
       "    <tr>\n",
       "      <th>2</th>\n",
       "      <td>13.112507</td>\n",
       "      <td>2.952382e+08</td>\n",
       "      <td>110000000.0</td>\n",
       "      <td>2015</td>\n",
       "      <td>Summit Entertainment|Mandeville Films|Red Wago...</td>\n",
       "    </tr>\n",
       "    <tr>\n",
       "      <th>3</th>\n",
       "      <td>11.173104</td>\n",
       "      <td>2.068178e+09</td>\n",
       "      <td>200000000.0</td>\n",
       "      <td>2015</td>\n",
       "      <td>Lucasfilm|Truenorth Productions|Bad Robot</td>\n",
       "    </tr>\n",
       "    <tr>\n",
       "      <th>4</th>\n",
       "      <td>9.335014</td>\n",
       "      <td>1.506249e+09</td>\n",
       "      <td>190000000.0</td>\n",
       "      <td>2015</td>\n",
       "      <td>Universal Pictures|Original Film|Media Rights ...</td>\n",
       "    </tr>\n",
       "    <tr>\n",
       "      <th>...</th>\n",
       "      <td>...</td>\n",
       "      <td>...</td>\n",
       "      <td>...</td>\n",
       "      <td>...</td>\n",
       "      <td>...</td>\n",
       "    </tr>\n",
       "    <tr>\n",
       "      <th>10861</th>\n",
       "      <td>0.080598</td>\n",
       "      <td>NaN</td>\n",
       "      <td>NaN</td>\n",
       "      <td>1966</td>\n",
       "      <td>Bruce Brown Films</td>\n",
       "    </tr>\n",
       "    <tr>\n",
       "      <th>10862</th>\n",
       "      <td>0.065543</td>\n",
       "      <td>NaN</td>\n",
       "      <td>NaN</td>\n",
       "      <td>1966</td>\n",
       "      <td>Cherokee Productions|Joel Productions|Douglas ...</td>\n",
       "    </tr>\n",
       "    <tr>\n",
       "      <th>10863</th>\n",
       "      <td>0.065141</td>\n",
       "      <td>NaN</td>\n",
       "      <td>NaN</td>\n",
       "      <td>1966</td>\n",
       "      <td>Mosfilm</td>\n",
       "    </tr>\n",
       "    <tr>\n",
       "      <th>10864</th>\n",
       "      <td>0.064317</td>\n",
       "      <td>NaN</td>\n",
       "      <td>NaN</td>\n",
       "      <td>1966</td>\n",
       "      <td>Benedict Pictures Corp.</td>\n",
       "    </tr>\n",
       "    <tr>\n",
       "      <th>10865</th>\n",
       "      <td>0.035919</td>\n",
       "      <td>NaN</td>\n",
       "      <td>19000.0</td>\n",
       "      <td>1966</td>\n",
       "      <td>Norm-Iris</td>\n",
       "    </tr>\n",
       "  </tbody>\n",
       "</table>\n",
       "<p>10865 rows × 5 columns</p>\n",
       "</div>"
      ],
      "text/plain": [
       "       popularity       revenue       budget  release_year  \\\n",
       "0       32.985763  1.513529e+09  150000000.0          2015   \n",
       "1       28.419936  3.784364e+08  150000000.0          2015   \n",
       "2       13.112507  2.952382e+08  110000000.0          2015   \n",
       "3       11.173104  2.068178e+09  200000000.0          2015   \n",
       "4        9.335014  1.506249e+09  190000000.0          2015   \n",
       "...           ...           ...          ...           ...   \n",
       "10861    0.080598           NaN          NaN          1966   \n",
       "10862    0.065543           NaN          NaN          1966   \n",
       "10863    0.065141           NaN          NaN          1966   \n",
       "10864    0.064317           NaN          NaN          1966   \n",
       "10865    0.035919           NaN      19000.0          1966   \n",
       "\n",
       "                                    production_companies  \n",
       "0      Universal Studios|Amblin Entertainment|Legenda...  \n",
       "1      Village Roadshow Pictures|Kennedy Miller Produ...  \n",
       "2      Summit Entertainment|Mandeville Films|Red Wago...  \n",
       "3              Lucasfilm|Truenorth Productions|Bad Robot  \n",
       "4      Universal Pictures|Original Film|Media Rights ...  \n",
       "...                                                  ...  \n",
       "10861                                  Bruce Brown Films  \n",
       "10862  Cherokee Productions|Joel Productions|Douglas ...  \n",
       "10863                                            Mosfilm  \n",
       "10864                            Benedict Pictures Corp.  \n",
       "10865                                          Norm-Iris  \n",
       "\n",
       "[10865 rows x 5 columns]"
      ]
     },
     "execution_count": 49,
     "metadata": {},
     "output_type": "execute_result"
    }
   ],
   "source": [
    "prod_cp"
   ]
  },
  {
   "cell_type": "code",
   "execution_count": 50,
   "metadata": {},
   "outputs": [],
   "source": [
    "# Splitting concatenated names into multiple rows\n",
    "lengths1 = prod_cp['production_companies'].str.split('|').map(len)\n",
    "# Creating a new dataframe with the new splitted rows\n",
    "prod_cp = pd.DataFrame({'production_companies' : concat(prod_cp['production_companies']),\n",
    "                                                   'popularity' : np.repeat(prod_cp['popularity'], lengths1),\n",
    "                                                   'revenue' : np.repeat(prod_cp['revenue'], lengths1), 'budget' : np.repeat(prod_cp['budget'], lengths1), 'release_year' : np.repeat(prod_cp['release_year'], lengths1)})"
   ]
  },
  {
   "cell_type": "code",
   "execution_count": 51,
   "metadata": {
    "scrolled": true
   },
   "outputs": [],
   "source": [
    "# Creating a list of decades to summerize all the years\n",
    "bin_edges = [1960, 1970, 1980, 1990, 2000, 2010, 2015]\n",
    "bin_names = ['1960s', '1970s', '1980s', '1990s', '2000s', '2010s']"
   ]
  },
  {
   "cell_type": "code",
   "execution_count": 52,
   "metadata": {},
   "outputs": [
    {
     "data": {
      "text/html": [
       "<div>\n",
       "<style scoped>\n",
       "    .dataframe tbody tr th:only-of-type {\n",
       "        vertical-align: middle;\n",
       "    }\n",
       "\n",
       "    .dataframe tbody tr th {\n",
       "        vertical-align: top;\n",
       "    }\n",
       "\n",
       "    .dataframe thead th {\n",
       "        text-align: right;\n",
       "    }\n",
       "</style>\n",
       "<table border=\"1\" class=\"dataframe\">\n",
       "  <thead>\n",
       "    <tr style=\"text-align: right;\">\n",
       "      <th></th>\n",
       "      <th>production_companies</th>\n",
       "      <th>popularity</th>\n",
       "      <th>revenue</th>\n",
       "      <th>budget</th>\n",
       "      <th>release_year</th>\n",
       "      <th>decade</th>\n",
       "    </tr>\n",
       "  </thead>\n",
       "  <tbody>\n",
       "    <tr>\n",
       "      <th>0</th>\n",
       "      <td>Universal Studios</td>\n",
       "      <td>32.985763</td>\n",
       "      <td>1.513529e+09</td>\n",
       "      <td>150000000.0</td>\n",
       "      <td>2015</td>\n",
       "      <td>2010s</td>\n",
       "    </tr>\n",
       "    <tr>\n",
       "      <th>0</th>\n",
       "      <td>Amblin Entertainment</td>\n",
       "      <td>32.985763</td>\n",
       "      <td>1.513529e+09</td>\n",
       "      <td>150000000.0</td>\n",
       "      <td>2015</td>\n",
       "      <td>2010s</td>\n",
       "    </tr>\n",
       "    <tr>\n",
       "      <th>0</th>\n",
       "      <td>Legendary Pictures</td>\n",
       "      <td>32.985763</td>\n",
       "      <td>1.513529e+09</td>\n",
       "      <td>150000000.0</td>\n",
       "      <td>2015</td>\n",
       "      <td>2010s</td>\n",
       "    </tr>\n",
       "    <tr>\n",
       "      <th>0</th>\n",
       "      <td>Fuji Television Network</td>\n",
       "      <td>32.985763</td>\n",
       "      <td>1.513529e+09</td>\n",
       "      <td>150000000.0</td>\n",
       "      <td>2015</td>\n",
       "      <td>2010s</td>\n",
       "    </tr>\n",
       "    <tr>\n",
       "      <th>0</th>\n",
       "      <td>Dentsu</td>\n",
       "      <td>32.985763</td>\n",
       "      <td>1.513529e+09</td>\n",
       "      <td>150000000.0</td>\n",
       "      <td>2015</td>\n",
       "      <td>2010s</td>\n",
       "    </tr>\n",
       "    <tr>\n",
       "      <th>...</th>\n",
       "      <td>...</td>\n",
       "      <td>...</td>\n",
       "      <td>...</td>\n",
       "      <td>...</td>\n",
       "      <td>...</td>\n",
       "      <td>...</td>\n",
       "    </tr>\n",
       "    <tr>\n",
       "      <th>10862</th>\n",
       "      <td>Joel Productions</td>\n",
       "      <td>0.065543</td>\n",
       "      <td>NaN</td>\n",
       "      <td>NaN</td>\n",
       "      <td>1966</td>\n",
       "      <td>1960s</td>\n",
       "    </tr>\n",
       "    <tr>\n",
       "      <th>10862</th>\n",
       "      <td>Douglas &amp; Lewis Productions</td>\n",
       "      <td>0.065543</td>\n",
       "      <td>NaN</td>\n",
       "      <td>NaN</td>\n",
       "      <td>1966</td>\n",
       "      <td>1960s</td>\n",
       "    </tr>\n",
       "    <tr>\n",
       "      <th>10863</th>\n",
       "      <td>Mosfilm</td>\n",
       "      <td>0.065141</td>\n",
       "      <td>NaN</td>\n",
       "      <td>NaN</td>\n",
       "      <td>1966</td>\n",
       "      <td>1960s</td>\n",
       "    </tr>\n",
       "    <tr>\n",
       "      <th>10864</th>\n",
       "      <td>Benedict Pictures Corp.</td>\n",
       "      <td>0.064317</td>\n",
       "      <td>NaN</td>\n",
       "      <td>NaN</td>\n",
       "      <td>1966</td>\n",
       "      <td>1960s</td>\n",
       "    </tr>\n",
       "    <tr>\n",
       "      <th>10865</th>\n",
       "      <td>Norm-Iris</td>\n",
       "      <td>0.035919</td>\n",
       "      <td>NaN</td>\n",
       "      <td>19000.0</td>\n",
       "      <td>1966</td>\n",
       "      <td>1960s</td>\n",
       "    </tr>\n",
       "  </tbody>\n",
       "</table>\n",
       "<p>24255 rows × 6 columns</p>\n",
       "</div>"
      ],
      "text/plain": [
       "              production_companies  popularity       revenue       budget  \\\n",
       "0                Universal Studios   32.985763  1.513529e+09  150000000.0   \n",
       "0             Amblin Entertainment   32.985763  1.513529e+09  150000000.0   \n",
       "0               Legendary Pictures   32.985763  1.513529e+09  150000000.0   \n",
       "0          Fuji Television Network   32.985763  1.513529e+09  150000000.0   \n",
       "0                           Dentsu   32.985763  1.513529e+09  150000000.0   \n",
       "...                            ...         ...           ...          ...   \n",
       "10862             Joel Productions    0.065543           NaN          NaN   \n",
       "10862  Douglas & Lewis Productions    0.065543           NaN          NaN   \n",
       "10863                      Mosfilm    0.065141           NaN          NaN   \n",
       "10864      Benedict Pictures Corp.    0.064317           NaN          NaN   \n",
       "10865                    Norm-Iris    0.035919           NaN      19000.0   \n",
       "\n",
       "       release_year decade  \n",
       "0              2015  2010s  \n",
       "0              2015  2010s  \n",
       "0              2015  2010s  \n",
       "0              2015  2010s  \n",
       "0              2015  2010s  \n",
       "...             ...    ...  \n",
       "10862          1966  1960s  \n",
       "10862          1966  1960s  \n",
       "10863          1966  1960s  \n",
       "10864          1966  1960s  \n",
       "10865          1966  1960s  \n",
       "\n",
       "[24255 rows x 6 columns]"
      ]
     },
     "execution_count": 52,
     "metadata": {},
     "output_type": "execute_result"
    }
   ],
   "source": [
    "# Assigning each year to it's corresponding decade\n",
    "prod_cp['decade'] = pd.cut(prod_cp['release_year'], bin_edges, labels=bin_names)\n",
    "prod_cp"
   ]
  },
  {
   "cell_type": "code",
   "execution_count": 53,
   "metadata": {},
   "outputs": [],
   "source": [
    "# Dropping the release year column since we don't need it\n",
    "prod_cp.drop('release_year', axis=1,inplace=True)"
   ]
  },
  {
   "cell_type": "code",
   "execution_count": 54,
   "metadata": {},
   "outputs": [],
   "source": [
    "# Getting all features mean for each production company over years\n",
    "prod_cp = prod_cp.groupby(['decade','production_companies'], as_index = False).mean().sort_values('decade',ascending=True)"
   ]
  },
  {
   "cell_type": "code",
   "execution_count": 55,
   "metadata": {},
   "outputs": [
    {
     "data": {
      "text/html": [
       "<div>\n",
       "<style scoped>\n",
       "    .dataframe tbody tr th:only-of-type {\n",
       "        vertical-align: middle;\n",
       "    }\n",
       "\n",
       "    .dataframe tbody tr th {\n",
       "        vertical-align: top;\n",
       "    }\n",
       "\n",
       "    .dataframe thead th {\n",
       "        text-align: right;\n",
       "    }\n",
       "</style>\n",
       "<table border=\"1\" class=\"dataframe\">\n",
       "  <thead>\n",
       "    <tr style=\"text-align: right;\">\n",
       "      <th></th>\n",
       "      <th>decade</th>\n",
       "      <th>production_companies</th>\n",
       "      <th>popularity</th>\n",
       "      <th>revenue</th>\n",
       "      <th>budget</th>\n",
       "    </tr>\n",
       "  </thead>\n",
       "  <tbody>\n",
       "    <tr>\n",
       "      <th>0</th>\n",
       "      <td>1960s</td>\n",
       "      <td>\"DIA\" Productions GmbH &amp; Co. KG</td>\n",
       "      <td>NaN</td>\n",
       "      <td>NaN</td>\n",
       "      <td>NaN</td>\n",
       "    </tr>\n",
       "    <tr>\n",
       "      <th>5260</th>\n",
       "      <td>1960s</td>\n",
       "      <td>Pangaea</td>\n",
       "      <td>NaN</td>\n",
       "      <td>NaN</td>\n",
       "      <td>NaN</td>\n",
       "    </tr>\n",
       "    <tr>\n",
       "      <th>5259</th>\n",
       "      <td>1960s</td>\n",
       "      <td>Pandora Pictures</td>\n",
       "      <td>NaN</td>\n",
       "      <td>NaN</td>\n",
       "      <td>NaN</td>\n",
       "    </tr>\n",
       "    <tr>\n",
       "      <th>5258</th>\n",
       "      <td>1960s</td>\n",
       "      <td>Pandora Filmproduktion</td>\n",
       "      <td>NaN</td>\n",
       "      <td>NaN</td>\n",
       "      <td>NaN</td>\n",
       "    </tr>\n",
       "    <tr>\n",
       "      <th>5257</th>\n",
       "      <td>1960s</td>\n",
       "      <td>Pandora Film</td>\n",
       "      <td>NaN</td>\n",
       "      <td>NaN</td>\n",
       "      <td>NaN</td>\n",
       "    </tr>\n",
       "    <tr>\n",
       "      <th>...</th>\n",
       "      <td>...</td>\n",
       "      <td>...</td>\n",
       "      <td>...</td>\n",
       "      <td>...</td>\n",
       "      <td>...</td>\n",
       "    </tr>\n",
       "    <tr>\n",
       "      <th>42019</th>\n",
       "      <td>2010s</td>\n",
       "      <td>First Independent Films</td>\n",
       "      <td>NaN</td>\n",
       "      <td>NaN</td>\n",
       "      <td>NaN</td>\n",
       "    </tr>\n",
       "    <tr>\n",
       "      <th>42018</th>\n",
       "      <td>2010s</td>\n",
       "      <td>First Generation Films</td>\n",
       "      <td>0.928584</td>\n",
       "      <td>15611137.5</td>\n",
       "      <td>14000000.0</td>\n",
       "    </tr>\n",
       "    <tr>\n",
       "      <th>42017</th>\n",
       "      <td>2010s</td>\n",
       "      <td>First Foot Films</td>\n",
       "      <td>NaN</td>\n",
       "      <td>NaN</td>\n",
       "      <td>NaN</td>\n",
       "    </tr>\n",
       "    <tr>\n",
       "      <th>42015</th>\n",
       "      <td>2010s</td>\n",
       "      <td>First Films</td>\n",
       "      <td>NaN</td>\n",
       "      <td>NaN</td>\n",
       "      <td>NaN</td>\n",
       "    </tr>\n",
       "    <tr>\n",
       "      <th>47279</th>\n",
       "      <td>2010s</td>\n",
       "      <td>í”„ë¡œë•ì…˜M</td>\n",
       "      <td>NaN</td>\n",
       "      <td>NaN</td>\n",
       "      <td>NaN</td>\n",
       "    </tr>\n",
       "  </tbody>\n",
       "</table>\n",
       "<p>47280 rows × 5 columns</p>\n",
       "</div>"
      ],
      "text/plain": [
       "      decade             production_companies  popularity     revenue  \\\n",
       "0      1960s  \"DIA\" Productions GmbH & Co. KG         NaN         NaN   \n",
       "5260   1960s                          Pangaea         NaN         NaN   \n",
       "5259   1960s                 Pandora Pictures         NaN         NaN   \n",
       "5258   1960s           Pandora Filmproduktion         NaN         NaN   \n",
       "5257   1960s                     Pandora Film         NaN         NaN   \n",
       "...      ...                              ...         ...         ...   \n",
       "42019  2010s          First Independent Films         NaN         NaN   \n",
       "42018  2010s           First Generation Films    0.928584  15611137.5   \n",
       "42017  2010s                 First Foot Films         NaN         NaN   \n",
       "42015  2010s                      First Films         NaN         NaN   \n",
       "47279  2010s                     í”„ë¡œë•ì…˜M         NaN         NaN   \n",
       "\n",
       "           budget  \n",
       "0             NaN  \n",
       "5260          NaN  \n",
       "5259          NaN  \n",
       "5258          NaN  \n",
       "5257          NaN  \n",
       "...           ...  \n",
       "42019         NaN  \n",
       "42018  14000000.0  \n",
       "42017         NaN  \n",
       "42015         NaN  \n",
       "47279         NaN  \n",
       "\n",
       "[47280 rows x 5 columns]"
      ]
     },
     "execution_count": 55,
     "metadata": {},
     "output_type": "execute_result"
    }
   ],
   "source": [
    "prod_cp"
   ]
  },
  {
   "cell_type": "code",
   "execution_count": 56,
   "metadata": {},
   "outputs": [],
   "source": [
    "# Getting the companies with the highest revenue for each decade\n",
    "high_rev = prod_cp.groupby('decade', as_index= False).apply(lambda x : x.loc[x['revenue'\n",
    "                                                                    ] == x['revenue'].max()])"
   ]
  },
  {
   "cell_type": "code",
   "execution_count": 57,
   "metadata": {},
   "outputs": [
    {
     "data": {
      "text/html": [
       "<div>\n",
       "<style scoped>\n",
       "    .dataframe tbody tr th:only-of-type {\n",
       "        vertical-align: middle;\n",
       "    }\n",
       "\n",
       "    .dataframe tbody tr th {\n",
       "        vertical-align: top;\n",
       "    }\n",
       "\n",
       "    .dataframe thead th {\n",
       "        text-align: right;\n",
       "    }\n",
       "</style>\n",
       "<table border=\"1\" class=\"dataframe\">\n",
       "  <thead>\n",
       "    <tr style=\"text-align: right;\">\n",
       "      <th></th>\n",
       "      <th></th>\n",
       "      <th>decade</th>\n",
       "      <th>production_companies</th>\n",
       "      <th>popularity</th>\n",
       "      <th>revenue</th>\n",
       "      <th>budget</th>\n",
       "    </tr>\n",
       "  </thead>\n",
       "  <tbody>\n",
       "    <tr>\n",
       "      <th>0</th>\n",
       "      <th>7567</th>\n",
       "      <td>1960s</td>\n",
       "      <td>Walt Disney Pictures</td>\n",
       "      <td>0.855116</td>\n",
       "      <td>2.058436e+08</td>\n",
       "      <td>4.000000e+06</td>\n",
       "    </tr>\n",
       "    <tr>\n",
       "      <th>1</th>\n",
       "      <th>12067</th>\n",
       "      <td>1970s</td>\n",
       "      <td>Lucasfilm</td>\n",
       "      <td>6.070151</td>\n",
       "      <td>4.762660e+08</td>\n",
       "      <td>9.925667e+06</td>\n",
       "    </tr>\n",
       "    <tr>\n",
       "      <th>2</th>\n",
       "      <th>22852</th>\n",
       "      <td>1980s</td>\n",
       "      <td>Tig Productions</td>\n",
       "      <td>1.695911</td>\n",
       "      <td>4.242088e+08</td>\n",
       "      <td>2.200000e+07</td>\n",
       "    </tr>\n",
       "    <tr>\n",
       "      <th>3</th>\n",
       "      <th>27827</th>\n",
       "      <td>1990s</td>\n",
       "      <td>Lucasfilm</td>\n",
       "      <td>3.526029</td>\n",
       "      <td>9.243176e+08</td>\n",
       "      <td>1.150000e+08</td>\n",
       "    </tr>\n",
       "    <tr>\n",
       "      <th>4</th>\n",
       "      <th>35589</th>\n",
       "      <td>2000s</td>\n",
       "      <td>Lightstorm Entertainment</td>\n",
       "      <td>4.988259</td>\n",
       "      <td>1.405754e+09</td>\n",
       "      <td>1.420000e+08</td>\n",
       "    </tr>\n",
       "    <tr>\n",
       "      <th>5</th>\n",
       "      <th>46641</th>\n",
       "      <td>2010s</td>\n",
       "      <td>Truenorth Productions</td>\n",
       "      <td>11.173104</td>\n",
       "      <td>2.068178e+09</td>\n",
       "      <td>2.000000e+08</td>\n",
       "    </tr>\n",
       "  </tbody>\n",
       "</table>\n",
       "</div>"
      ],
      "text/plain": [
       "        decade      production_companies  popularity       revenue  \\\n",
       "0 7567   1960s      Walt Disney Pictures    0.855116  2.058436e+08   \n",
       "1 12067  1970s                 Lucasfilm    6.070151  4.762660e+08   \n",
       "2 22852  1980s           Tig Productions    1.695911  4.242088e+08   \n",
       "3 27827  1990s                 Lucasfilm    3.526029  9.243176e+08   \n",
       "4 35589  2000s  Lightstorm Entertainment    4.988259  1.405754e+09   \n",
       "5 46641  2010s     Truenorth Productions   11.173104  2.068178e+09   \n",
       "\n",
       "               budget  \n",
       "0 7567   4.000000e+06  \n",
       "1 12067  9.925667e+06  \n",
       "2 22852  2.200000e+07  \n",
       "3 27827  1.150000e+08  \n",
       "4 35589  1.420000e+08  \n",
       "5 46641  2.000000e+08  "
      ]
     },
     "execution_count": 57,
     "metadata": {},
     "output_type": "execute_result"
    }
   ],
   "source": [
    "high_rev"
   ]
  },
  {
   "cell_type": "markdown",
   "metadata": {},
   "source": [
    "**As we can see Lucasfilm is the company with the highest revenue for two decade while the Lightstorm Entertainement is the highest over all in terms of revenue amount**"
   ]
  },
  {
   "cell_type": "code",
   "execution_count": 58,
   "metadata": {
    "scrolled": true
   },
   "outputs": [
    {
     "data": {
      "image/png": "[encoded data removed]",
      "text/plain": [
       "<Figure size 540x252 with 1 Axes>"
      ]
     },
     "metadata": {
      "needs_background": "light"
     },
     "output_type": "display_data"
    }
   ],
   "source": [
    "# Plotting the highest revenue for each decade\n",
    "plt.rcParams[\"figure.figsize\"] = [7.50, 3.50]\n",
    "plt.rcParams[\"figure.autolayout\"] = True\n",
    "x = np.arange(len(high_rev.decade)) # the label locations\n",
    "width = 0.35\n",
    "fig, ax = plt.subplots()\n",
    "ax.set_ylabel('Revenue')\n",
    "ax.set_xlabel('Decade')\n",
    "ax.set_title('Production companies revenues over the decades')\n",
    "ax.set_xticks(x)\n",
    "ax.set_xticklabels(high_rev.decade)\n",
    "pps = ax.bar(x - width / 2, high_rev.revenue, width, label='revenue')\n",
    "for p in pps:\n",
    "    height = p.get_height()\n",
    "    ax.text(x=p.get_x() + p.get_width() / 2, y=height+.10,s=\"{}\".format(height),ha='center')\n",
    "plt.show()"
   ]
  },
  {
   "cell_type": "markdown",
   "metadata": {},
   "source": [
    "**The revenue is enormously increasing each decade**"
   ]
  },
  {
   "cell_type": "code",
   "execution_count": 59,
   "metadata": {},
   "outputs": [
    {
     "data": {
      "text/plain": [
       "<AxesSubplot:xlabel='budget'>"
      ]
     },
     "execution_count": 59,
     "metadata": {},
     "output_type": "execute_result"
    },
    {
     "data": {
      "image/png": "[encoded data removed]",
      "text/plain": [
       "<Figure size 540x252 with 1 Axes>"
      ]
     },
     "metadata": {
      "needs_background": "light"
     },
     "output_type": "display_data"
    }
   ],
   "source": [
    "high_rev.plot(kind='line', x='budget', y='revenue')"
   ]
  },
  {
   "cell_type": "markdown",
   "metadata": {},
   "source": [
    "**We notice that each decade a new production company rise except Lucasfilm which appeared twice in the 1970s and the 1990s**"
   ]
  },
  {
   "cell_type": "markdown",
   "metadata": {},
   "source": [
    "<a id='conclusions'></a>\n",
    "## Conclusions"
   ]
  },
  {
   "cell_type": "markdown",
   "metadata": {},
   "source": [
    "## According to all the analysis above, We can conclude that\n",
    "\n",
    "   ### - 75% of high popularity movies runtime is above 119 minutes, People tend to like 2 hours long movies.\n",
    "   \n",
    "   ### - Budget have extremely increased over the years, The lowest budget located in the 1970s while in the last of the 1990s we can find the peak, although it shows a slight decrease in the 2010s.\n",
    "   \n",
    "   ### - Based on the correlation map and plots, budgets corresponding to high budget movies tends to have a strong correlation with average count, popularity and revenue, While it shows a weak one with average voting.\n",
    "   \n",
    "   ### - Genres with high popularity have changed over the years with an overall analysis, It shows some stabilty in couple years, Mentionning 'Animation', 'Fantasy' and 'Adventure.   \n",
    "   \n",
    "   ### - Lucasfilm movies occupies the top in the 1970s and the 1990s decades in terms of revenue.\n",
    "   \n",
    "   ### -Truenorth Production have the highest revenue rate of all decades.\n",
    "   \n",
    "\n",
    "   \n",
    "   ### - Production companies need to invest more in  Adventure - Fantasy - and Animation movies, taking into account it's duration (As mentionned above)\n",
    "   \n",
    "   ### - The top 6 production companies need to make a partnership in order to make popular successful movies with high revenue."
   ]
  },
  {
   "cell_type": "markdown",
   "metadata": {},
   "source": [
    "## Limitation\n",
    "There are so many data that have been cleaned in this report which is considered as anomalies since they contains a lot of 0s, NaN, and duplicates. The amount of data cleaned (replaced by it's mean) is over 6000 samples for each budget and revenue columns.\n",
    "This اhuge change affects the credibility of results and it does not represent the population."
   ]
  },
  {
   "cell_type": "markdown",
   "metadata": {},
   "source": [
    "# References\n",
    "https://www.geeksforgeeks.org/change-plot-size-in-matplotlib-python/#:~:text=Here%20are%20various%20ways%20to%20change%20the%20default,plt.%20x%20%3D%20%5B1%2C%202%2C%203%2C%204%2C%205%5D\n",
    "\n",
    "https://stackoverflow.com/questions/12680754/split-explode-pandas-dataframe-string-entry-to-separate-rows\n",
    "https://stackoverflow.com/questions/67539180/how-do-i-increase-bar-chart-size-with-matplotlib\n",
    "https://www.tutorialkart.com/matplotlib-tutorial/matplotlib-pyplot-bar-plot-width/\n",
    "https://pythonguides.com/matplotlib-scatter-plot-color/\n",
    "\n",
    "https://www.tutorialspoint.com/how-to-write-text-above-the-bars-on-a-bar-plot-python-matplotlib"
   ]
  },
  {
   "cell_type": "code",
   "execution_count": null,
   "metadata": {},
   "outputs": [],
   "source": []
  }
 ],
 "metadata": {
  "kernelspec": {
   "display_name": "Python 3 (ipykernel)",
   "language": "python",
   "name": "python3"
  },
  "language_info": {
   "codemirror_mode": {
    "name": "ipython",
    "version": 3
   },
   "file_extension": ".py",
   "mimetype": "text/x-python",
   "name": "python",
   "nbconvert_exporter": "python",
   "pygments_lexer": "ipython3",
   "version": "3.9.12"
  }
 },
 "nbformat": 4,
 "nbformat_minor": 2
}
